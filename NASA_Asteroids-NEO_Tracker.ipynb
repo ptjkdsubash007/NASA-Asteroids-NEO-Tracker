{
 "cells": [
  {
   "cell_type": "code",
   "execution_count": 2,
   "id": "a5de908f-ebba-4169-9770-de2ece271410",
   "metadata": {},
   "outputs": [],
   "source": [
    "import requests"
   ]
  },
  {
   "cell_type": "code",
   "execution_count": 3,
   "id": "f5834f8b-6ff9-4887-a2bc-a8044df0556e",
   "metadata": {},
   "outputs": [],
   "source": [
    "from datetime import datetime"
   ]
  },
  {
   "cell_type": "code",
   "execution_count": 4,
   "id": "a6237a37-9a90-4acc-a763-ff75df766082",
   "metadata": {},
   "outputs": [],
   "source": [
    "API_KEY=\"8ed1jyPScFItMNAyUiMycf7hVjnksufhorRHYXim\""
   ]
  },
  {
   "cell_type": "code",
   "execution_count": null,
   "id": "a5fe5450-c7de-4137-bfdb-e179cc858ed4",
   "metadata": {},
   "outputs": [
    {
     "name": "stdout",
     "output_type": "stream",
     "text": [
      "99.9%\r"
     ]
    }
   ],
   "source": [
    "asteroids_data = []\n",
    "target = 10000\n",
    "url = f\"https://api.nasa.gov/neo/rest/v1/feed?start_date=2024-01-01&end_date=2024-01-08&api_key={API_KEY}\"\n",
    "  \n",
    "\n",
    "while len(asteroids_data) < target:\n",
    "  \n",
    "    response = requests.get(url)\n",
    "    data = response.json()\n",
    "    details = data.get('near_earth_objects')\n",
    "    for date,info in details.items():\n",
    "      for i in info:\n",
    "        asteroids_data.append(dict(id = int(i.get('id')),\n",
    "        name = i.get('name'),\n",
    "        absolute_magnitude_h= float(i.get('absolute_magnitude_h')),\n",
    "        estimated_diameter_min_km=i.get('estimated_diameter').get(\"kilometers\").get(\"estimated_diameter_min\"),\n",
    "        estimated_diameter_max_km=i.get(\"estimated_diameter\").get(\"kilometers\").get(\"estimated_diameter_max\"),\n",
    "        is_potentially_hazardous_asteroid=i.get('is_potentially_hazardous_asteroid'),\n",
    "        neo_reference_id = int(i.get(\"neo_reference_id\")),\n",
    "        close_approach_date = datetime.strptime(i.get('close_approach_data')[0].get('close_approach_date'),\"%Y-%m-%d\").date(),\n",
    "        relative_velocity_kmph = float(i.get(\"close_approach_data\")[0].get(\"relative_velocity\").get(\"kilometers_per_hour\")),\n",
    "        astronomical_au = float(i.get(\"close_approach_data\")[0].get(\"miss_distance\").get(\"astronomical\")),\n",
    "        miss_distance_km = float(i.get(\"close_approach_data\")[0].get(\"miss_distance\").get(\"kilometers\")),\n",
    "        miss_distance_lunar =float(i.get(\"close_approach_data\")[0].get(\"miss_distance\").get(\"lunar\")),\n",
    "        orbiting_body = i.get(\"close_approach_data\")[-1].get(\"orbiting_body\")))                    \n",
    "        \n",
    "        print(str(round((len(asteroids_data)/target)*100,1))+'%', end='\\r') #Print process percentage\n",
    "        \n",
    "        if len(asteroids_data) >= target:\n",
    "            break\n",
    "      if len(asteroids_data) >= target:\n",
    "          break\n",
    "\n",
    "    url = data.get('links').get('next')\n",
    "    \n"
   ]
  },
  {
   "cell_type": "code",
   "execution_count": 7,
   "id": "57cca561-10af-4190-81ce-a2cee4478b9b",
   "metadata": {},
   "outputs": [],
   "source": [
    "import pymysql"
   ]
  },
  {
   "cell_type": "code",
   "execution_count": 9,
   "id": "b11d38f4-c3a8-41cd-88fc-7cc4ba76c014",
   "metadata": {},
   "outputs": [],
   "source": [
    "connection=pymysql.connect(\n",
    "    host='localhost',\n",
    "    user='root',\n",
    "    password='@Ss952714103317',\n",
    "    database='asteroids_db'\n",
    ")\n",
    "cursor=connection.cursor()"
   ]
  },
  {
   "cell_type": "code",
   "execution_count": 11,
   "id": "a3ce0dc8-2f03-424b-adce-7788e0a3eeb2",
   "metadata": {},
   "outputs": [],
   "source": [
    "table1=\"\"\"create table asteroids( id INT,\n",
    "name VARCHAR(40), \n",
    "absolute_magnitude_h FLOAT, \n",
    "estimated_diameter_min_km FLOAT, \n",
    "estimated_diameter_max_km FLOAT, \n",
    "is_potentially_hazardous_asteroid BOOLEAN);\"\"\""
   ]
  },
  {
   "cell_type": "code",
   "execution_count": 12,
   "id": "7319dfaa-d0d7-4bb3-84e4-205f900b3cd8",
   "metadata": {},
   "outputs": [
    {
     "data": {
      "text/plain": [
       "0"
      ]
     },
     "execution_count": 12,
     "metadata": {},
     "output_type": "execute_result"
    }
   ],
   "source": [
    "cursor.execute(table1)"
   ]
  },
  {
   "cell_type": "code",
   "execution_count": 17,
   "id": "768c7b3a-3a4d-4920-84d5-1e427e5f55c4",
   "metadata": {},
   "outputs": [],
   "source": [
    "table2=\"\"\"create table close_approach(\n",
    "neo_reference_id INT,\n",
    "close_approach_date DATE,\n",
    "relative_velocity_kmph FLOAT,\n",
    "astronomical FLOAT,\n",
    "miss_distance_km FLOAT,\n",
    "miss_distance_lunar FLOAT,\n",
    "orbiting_body VARCHAR(40)\n",
    ")\"\"\""
   ]
  },
  {
   "cell_type": "code",
   "execution_count": 18,
   "id": "d7bcc13d-06a4-47a6-a6b5-ee79140b7df7",
   "metadata": {},
   "outputs": [
    {
     "data": {
      "text/plain": [
       "0"
      ]
     },
     "execution_count": 18,
     "metadata": {},
     "output_type": "execute_result"
    }
   ],
   "source": [
    "cursor.execute(table2)"
   ]
  },
  {
   "cell_type": "code",
   "execution_count": 19,
   "id": "eba8c04e-da3d-4084-8b42-3328a89b6ddf",
   "metadata": {},
   "outputs": [],
   "source": [
    "insert_script=\"\"\"insert into asteroids values(%s, %s, %s, %s, %s, %s)\"\"\""
   ]
  },
  {
   "cell_type": "code",
   "execution_count": 20,
   "id": "0c8ecd4e-2754-473a-8318-8a07ba2d0306",
   "metadata": {},
   "outputs": [],
   "source": [
    "for i in asteroids_data:\n",
    "    value=(\n",
    "        i.get('id'),\n",
    "        i.get('name'),\n",
    "        i.get('absolute_magnitude_h'),\n",
    "        i.get('estimated_diameter_min_km'),\n",
    "        i.get('estimated_diameter_max_km'),\n",
    "        i.get('is_potentially_hazardous_asteroid')\n",
    "          )\n",
    "    cursor.execute(insert_script,value)\n",
    "connection.commit()"
   ]
  },
  {
   "cell_type": "code",
   "execution_count": 22,
   "id": "84d53726-a313-4d92-9bf7-a28b1d844078",
   "metadata": {},
   "outputs": [],
   "source": [
    "insert_script2=\"\"\"insert into close_approach values(%s, %s, %s, %s, %s, %s, %s)\"\"\""
   ]
  },
  {
   "cell_type": "code",
   "execution_count": 23,
   "id": "e2ca4c4f-24cd-484d-a069-f64a30e9c360",
   "metadata": {},
   "outputs": [],
   "source": [
    "for i in asteroids_data:\n",
    "    value=(\n",
    "        i.get('neo_reference_id'),\n",
    "        i.get('close_approach_date'),\n",
    "        i.get('relative_velocity_kmph'),\n",
    "        i.get('astronomical_au'),\n",
    "        i.get('miss_distance_km'),\n",
    "        i.get('miss_distance_lunar'),\n",
    "        i.get('orbiting_body')\n",
    "          )\n",
    "    cursor.execute(insert_script2,value)\n",
    "connection.commit()"
   ]
  },
  {
   "cell_type": "code",
   "execution_count": null,
   "id": "70363dc2-0b92-4432-b11e-e7f65dd6d939",
   "metadata": {},
   "outputs": [],
   "source": []
  },
  {
   "cell_type": "code",
   "execution_count": null,
   "id": "afad7a1b-c106-4977-9ee0-69b14c5fb929",
   "metadata": {},
   "outputs": [],
   "source": []
  },
  {
   "cell_type": "code",
   "execution_count": null,
   "id": "e080045a-cd68-4b10-af35-9d639ba1ca8e",
   "metadata": {},
   "outputs": [],
   "source": []
  },
  {
   "cell_type": "code",
   "execution_count": null,
   "id": "6a74e77b-c909-4cc6-b075-9dfd368c3223",
   "metadata": {},
   "outputs": [],
   "source": []
  },
  {
   "cell_type": "code",
   "execution_count": null,
   "id": "8db4dbcc-13c6-4404-badc-f05993b20880",
   "metadata": {},
   "outputs": [],
   "source": []
  },
  {
   "cell_type": "code",
   "execution_count": null,
   "id": "e46c9718-1d67-4b30-8b10-316041634f07",
   "metadata": {},
   "outputs": [],
   "source": []
  },
  {
   "cell_type": "code",
   "execution_count": null,
   "id": "77d30f7a",
   "metadata": {},
   "outputs": [],
   "source": []
  },
  {
   "cell_type": "code",
   "execution_count": null,
   "id": "f7dcd9fe-e1cf-4c4d-bcd1-aa909b65e8c4",
   "metadata": {},
   "outputs": [],
   "source": []
  },
  {
   "cell_type": "code",
   "execution_count": null,
   "id": "999fe090-0d98-4561-b28d-1d25954256fb",
   "metadata": {},
   "outputs": [],
   "source": []
  }
 ],
 "metadata": {
  "kernelspec": {
   "display_name": "base",
   "language": "python",
   "name": "python3"
  },
  "language_info": {
   "codemirror_mode": {
    "name": "ipython",
    "version": 3
   },
   "file_extension": ".py",
   "mimetype": "text/x-python",
   "name": "python",
   "nbconvert_exporter": "python",
   "pygments_lexer": "ipython3",
   "version": "3.12.7"
  }
 },
 "nbformat": 4,
 "nbformat_minor": 5
}
